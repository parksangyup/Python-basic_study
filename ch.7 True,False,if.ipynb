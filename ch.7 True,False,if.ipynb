{
 "cells": [
  {
   "cell_type": "code",
   "execution_count": 1,
   "metadata": {},
   "outputs": [
    {
     "name": "stdout",
     "output_type": "stream",
     "text": [
      "정수입력: 10\n",
      "양의 정수 입니다.\n"
     ]
    }
   ],
   "source": [
    "def main():\n",
    "    num = int(input(\"정수입력: \"))\n",
    "    if num > 0:\n",
    "        print(\"양의 정수 입니다.\")\n",
    "        \n",
    "main()"
   ]
  },
  {
   "cell_type": "code",
   "execution_count": 2,
   "metadata": {},
   "outputs": [
    {
     "name": "stdout",
     "output_type": "stream",
     "text": [
      "양의 정수\n"
     ]
    }
   ],
   "source": [
    "num = 2\n",
    "if num > 0: print(\"양의 정수\")#한줄로 담는 경우도 있음"
   ]
  },
  {
   "cell_type": "code",
   "execution_count": 3,
   "metadata": {},
   "outputs": [
    {
     "name": "stdout",
     "output_type": "stream",
     "text": [
      "정수 입력: -1\n",
      "0보다 크지 않은 수 입니다.\n"
     ]
    }
   ],
   "source": [
    "def main():\n",
    "    num = int(input(\"정수 입력: \"))\n",
    "    if num > 0:\n",
    "        print(\"0보다 큰 수 입니다.\")\n",
    "    else:\n",
    "        print(\"0보다 크지 않은 수 입니다.\")\n",
    "main()"
   ]
  },
  {
   "cell_type": "code",
   "execution_count": 4,
   "metadata": {},
   "outputs": [
    {
     "name": "stdout",
     "output_type": "stream",
     "text": [
      "정수 입력: 0\n",
      "0으로 판단됨\n"
     ]
    }
   ],
   "source": [
    "def main():\n",
    "    num = int(input(\"정수 입력: \"))\n",
    "    if num>0:\n",
    "        print(\"0보다 큰수\")\n",
    "    elif num <0:\n",
    "        print(\"0보다 작은수\")\n",
    "    else :\n",
    "        print(\"0으로 판단됨\")\n",
    "main()"
   ]
  },
  {
   "cell_type": "code",
   "execution_count": 5,
   "metadata": {},
   "outputs": [
    {
     "name": "stdout",
     "output_type": "stream",
     "text": [
      "정수 입력 : 4\n",
      "1,2,3 아닌 정수를 입력했습니다.\n"
     ]
    }
   ],
   "source": [
    "# == \"같음\" 논리 연산\n",
    "def main():\n",
    "    num = int(input(\"정수 입력 : \"))\n",
    "    if num == 1:\n",
    "        print(\"1을 입력했습니다.\")\n",
    "    elif num == 2:\n",
    "        print(\"2를 입력했습니다,\")\n",
    "    elif num ==3 :\n",
    "        print(\"3을 입력했습니다.\")\n",
    "    else:\n",
    "        print(\"1,2,3 아닌 정수를 입력했습니다.\")\n",
    "main()"
   ]
  },
  {
   "cell_type": "code",
   "execution_count": 7,
   "metadata": {},
   "outputs": [
    {
     "name": "stdout",
     "output_type": "stream",
     "text": [
      "2의 배수이면서 3의 배수인 수 입력: 6\n",
      "yes\n"
     ]
    }
   ],
   "source": [
    "#2의 배수면서 3의 배수이면 yes 출력 아니면 no 출력\n",
    "def main():\n",
    "    num = int(input(\"2의 배수이면서 3의 배수인 수 입력: \"))\n",
    "    if num % 2 == 0:\n",
    "        if num % 3 ==0:\n",
    "            print(\"yes\")\n",
    "        else:\n",
    "            print(\"no!\")\n",
    "            \n",
    "    else:\n",
    "        print(\"no!\")\n",
    "main()"
   ]
  },
  {
   "cell_type": "code",
   "execution_count": 8,
   "metadata": {},
   "outputs": [
    {
     "name": "stdout",
     "output_type": "stream",
     "text": [
      "2의 배수이면서 3의 배수인 수 입력: 7\n",
      "no\n"
     ]
    }
   ],
   "source": [
    "#and 연산자를 활용 이는 양쪽에 True 와 같은 값을 가질때 사용하면 유용\n",
    "def main():\n",
    "    num = int(input(\"2의 배수이면서 3의 배수인 수 입력: \"))\n",
    "    if (num%2) == 0 and (num%3)==0:\n",
    "        print(\"yes\")\n",
    "    else:\n",
    "        print(\"no\")\n",
    "main()"
   ]
  },
  {
   "cell_type": "code",
   "execution_count": null,
   "metadata": {},
   "outputs": [],
   "source": [
    "#연습문제 7-1, 문제 1\n"
   ]
  }
 ],
 "metadata": {
  "kernelspec": {
   "display_name": "Python 3",
   "language": "python",
   "name": "python3"
  },
  "language_info": {
   "codemirror_mode": {
    "name": "ipython",
    "version": 3
   },
   "file_extension": ".py",
   "mimetype": "text/x-python",
   "name": "python",
   "nbconvert_exporter": "python",
   "pygments_lexer": "ipython3",
   "version": "3.6.8"
  }
 },
 "nbformat": 4,
 "nbformat_minor": 2
}
